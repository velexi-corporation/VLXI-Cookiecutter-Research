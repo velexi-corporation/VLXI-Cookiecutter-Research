{
 "cells": [
  {
   "cell_type": "markdown",
   "id": "3cbdaaff",
   "metadata": {},
   "source": [
    "## 2022-04-23: Research Notebook Example\n",
    "\n",
    "### Authors\n",
    "* Kevin Chu (kevin@velexi.com)\n",
    "\n",
    "\n",
    "### Overview\n",
    "This Jupyter notebook is intended to demonstrate\n",
    "\n",
    "* the general format of a computational experiment notebook and\n",
    "\n",
    "* integration with MLflow.\n",
    "\n",
    "### Key Results\n",
    "\n",
    "The key results of this experiment are ..."
   ]
  },
  {
   "cell_type": "markdown",
   "id": "1ec191fd",
   "metadata": {},
   "source": [
    "### History\n",
    "\n",
    "#### 2022-05-31\n",
    "\n",
    "- Added \"History\" section."
   ]
  },
  {
   "cell_type": "markdown",
   "id": "0d35f392",
   "metadata": {},
   "source": [
    "### Experiment Parameters"
   ]
  },
  {
   "cell_type": "code",
   "execution_count": 1,
   "id": "7def697e",
   "metadata": {},
   "outputs": [],
   "source": [
    "# --- Experiment parameters\n",
    "\n",
    "# Name of experiment. Used for MLflow experiment name, output files, etc.\n",
    "experiment_name = \"example-experiment\"\n",
    "\n",
    "# ------ Algorithm parameters\n",
    "\n",
    "# slope of line\n",
    "slope = 5\n",
    "\n",
    "# y-intercept of line\n",
    "y_intercept = 10\n",
    "\n",
    "# noise_level\n",
    "noise_level = 0.1 "
   ]
  },
  {
   "cell_type": "markdown",
   "id": "67f7d13d",
   "metadata": {},
   "source": [
    "### Preparations"
   ]
  },
  {
   "cell_type": "code",
   "execution_count": 2,
   "id": "48b986d8",
   "metadata": {
    "scrolled": false
   },
   "outputs": [],
   "source": [
    "# --- Imports\n",
    "\n",
    "# Standard library\n",
    "import random\n",
    "\n",
    "# External packages\n",
    "import mlflow\n",
    "import numpy as np"
   ]
  },
  {
   "cell_type": "code",
   "execution_count": 3,
   "id": "caaaaa6a",
   "metadata": {},
   "outputs": [],
   "source": [
    "# --- Set up MLflow Tracking\n",
    "\n",
    "# Set experiment\n",
    "mlflow.set_experiment(experiment_name)\n",
    "\n",
    "# Ensure that previous run (possibly failed) has been terminated by MLflow.\n",
    "if mlflow.active_run():\n",
    "    mlflow.end_run()\n",
    "\n",
    "# Initialize dictionary for experiment results\n",
    "mlflow_results = {}"
   ]
  },
  {
   "cell_type": "code",
   "execution_count": 4,
   "id": "39174538",
   "metadata": {},
   "outputs": [],
   "source": [
    "# --- Record experiment parameters\n",
    "\n",
    "mlflow.log_param(\"slope\", slope)\n",
    "mlflow.log_param(\"y_intercept\", y_intercept)\n",
    "mlflow.log_param(\"noise_level\", noise_level)"
   ]
  },
  {
   "cell_type": "markdown",
   "id": "2473b5c8",
   "metadata": {},
   "source": [
    "### Perform computational experiment"
   ]
  },
  {
   "cell_type": "code",
   "execution_count": 5,
   "id": "cc15eace",
   "metadata": {},
   "outputs": [],
   "source": [
    "# Compute x-intercept for line (with noise)\n",
    "\n",
    "x_intercept = - (y_intercept + noise_level*random.gauss(0, 1)) / slope\n",
    "\n",
    "# Compute x-intercept for line\n",
    "error = abs(slope * x_intercept + y_intercept - 0)\n",
    "\n",
    "# Save results\n",
    "mlflow.log_metric(\"x_intercept\", x_intercept)\n",
    "mlflow.log_metric(\"error\", error)\n",
    "mlflow_results[\"x_intercept\"] = x_intercept\n",
    "mlflow_results[\"error\"] = error"
   ]
  },
  {
   "cell_type": "markdown",
   "id": "08f11e04",
   "metadata": {},
   "source": [
    "### Record results"
   ]
  },
  {
   "cell_type": "code",
   "execution_count": 6,
   "id": "db8c6c09",
   "metadata": {},
   "outputs": [],
   "source": [
    "# --- Record experiment results\n",
    "\n",
    "mlflow.log_dict(mlflow_results, \"results.json\")"
   ]
  },
  {
   "cell_type": "markdown",
   "id": "0b09840d",
   "metadata": {},
   "source": [
    "### Cleanup"
   ]
  },
  {
   "cell_type": "code",
   "execution_count": 7,
   "id": "c3e51b63",
   "metadata": {},
   "outputs": [],
   "source": [
    "# --- End current MLflow run\n",
    "\n",
    "mlflow.end_run()"
   ]
  }
 ],
 "metadata": {
  "kernelspec": {
   "display_name": "Python 3 (ipykernel)",
   "language": "python",
   "name": "python3"
  },
  "language_info": {
   "codemirror_mode": {
    "name": "ipython",
    "version": 3
   },
   "file_extension": ".py",
   "mimetype": "text/x-python",
   "name": "python",
   "nbconvert_exporter": "python",
   "pygments_lexer": "ipython3",
   "version": "3.9.12"
  }
 },
 "nbformat": 4,
 "nbformat_minor": 5
}
